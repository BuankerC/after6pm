{
 "cells": [
  {
   "cell_type": "markdown",
   "metadata": {},
   "source": [
    "# 10817번"
   ]
  },
  {
   "cell_type": "code",
   "execution_count": 14,
   "metadata": {},
   "outputs": [
    {
     "name": "stdout",
     "output_type": "stream",
     "text": [
      "534 121 13\n",
      "121\n"
     ]
    }
   ],
   "source": [
    "a = list(input().split())\n",
    "for i in range(len(a)):\n",
    "    a[i] = int(a[i])\n",
    "a.sort(reverse=True)\n",
    "print(a[1])"
   ]
  },
  {
   "cell_type": "markdown",
   "metadata": {},
   "source": [
    "# 2753번"
   ]
  },
  {
   "cell_type": "code",
   "execution_count": 2,
   "metadata": {},
   "outputs": [
    {
     "name": "stdout",
     "output_type": "stream",
     "text": [
      "1233\n",
      "0\n"
     ]
    }
   ],
   "source": [
    "year = int(input())\n",
    "if year % 4 == 0 and year % 100 != 0 or year % 400 == 0:\n",
    "    print(1)\n",
    "else:\n",
    "    print(0)\n",
    "    "
   ]
  },
  {
   "cell_type": "code",
   "execution_count": 5,
   "metadata": {},
   "outputs": [
    {
     "name": "stdout",
     "output_type": "stream",
     "text": [
      "1203\n",
      "0\n"
     ]
    }
   ],
   "source": [
    "year = int(input())\n",
    "\n",
    "if year % 4 == 0:\n",
    "#     4의 배수\n",
    "    if year % 100 != 0 or year % 400 == 0:\n",
    "        print(1)\n",
    "    else:\n",
    "        print(0)\n",
    "else:\n",
    "#     4의 배수가 아니라 윤년 아님\n",
    "    print(0)\n",
    "    \n",
    "\n",
    "    "
   ]
  },
  {
   "cell_type": "markdown",
   "metadata": {},
   "source": [
    "# 10817번"
   ]
  },
  {
   "cell_type": "code",
   "execution_count": 9,
   "metadata": {},
   "outputs": [
    {
     "name": "stdout",
     "output_type": "stream",
     "text": [
      "12 21 32\n",
      "21\n"
     ]
    }
   ],
   "source": [
    "number = list(input().split())\n",
    "\n",
    "for i in range(len(number)):\n",
    "    number[i] = int(number[i])\n",
    "number.sort(reverse=True)\n",
    "print(number[1])    \n",
    "    \n",
    "    "
   ]
  },
  {
   "cell_type": "code",
   "execution_count": 11,
   "metadata": {},
   "outputs": [
    {
     "name": "stdout",
     "output_type": "stream",
     "text": [
      "https://youtu.be/-UjzaD8XvsE\n"
     ]
    }
   ],
   "source": [
    "url = \"https://youtu.be/-UjzaD8XvsE\"\n",
    "print(url)\n",
    "# 지금 즐기지 못하는 건 - 킹스턴 루디스카 Live"
   ]
  },
  {
   "cell_type": "code",
   "execution_count": 25,
   "metadata": {},
   "outputs": [
    {
     "ename": "SyntaxError",
     "evalue": "invalid syntax (<ipython-input-25-f7284b25fbd6>, line 5)",
     "output_type": "error",
     "traceback": [
      "\u001b[1;36m  File \u001b[1;32m\"<ipython-input-25-f7284b25fbd6>\"\u001b[1;36m, line \u001b[1;32m5\u001b[0m\n\u001b[1;33m    if int(number[i]) >= int(number[1])\u001b[0m\n\u001b[1;37m                                       ^\u001b[0m\n\u001b[1;31mSyntaxError\u001b[0m\u001b[1;31m:\u001b[0m invalid syntax\n"
     ]
    }
   ],
   "source": [
    "number = list(input().split())\n",
    "\n",
    "for i in range:\n",
    "\n",
    "    if int(number[i]) >= int(number[1])\n",
    "        print(int(number[0])\n",
    "    elif int(number[i+1]) >= int(number[2])\n",
    "        print(int(number[1]))\n",
    "    else:\n",
    "        print(0)\n"
   ]
  },
  {
   "cell_type": "code",
   "execution_count": null,
   "metadata": {},
   "outputs": [],
   "source": [
    "# 최동호의 풀이\n",
    "\n",
    "number = input()\n",
    "\n",
    "num = number.split(' ')\n",
    "\n",
    "\n",
    "num1 = int(num[0])\n",
    "num2 = int(num[1])\n",
    "num3 = int(num[2])\n",
    "\n",
    "if num1 <= num2 <= num3:\n",
    "    print(num2)\n",
    "elif num1 <= num3 <= num2:\n",
    "    print(num3)\n",
    "elif num2 <= num1 <= num3:\n",
    "    print(num1)\n",
    "elif num2 <= num3 <= num1:\n",
    "    print(num3)\n",
    "elif num3 <= num1 <= num2:\n",
    "    print(num1)\n",
    "else:\n",
    "    print(num2)"
   ]
  },
  {
   "cell_type": "code",
   "execution_count": 7,
   "metadata": {},
   "outputs": [
    {
     "name": "stdout",
     "output_type": "stream",
     "text": [
      "12 456 787\n",
      "456\n"
     ]
    }
   ],
   "source": [
    "# 선생님의 풀이\n",
    "\n",
    "number = input()\n",
    "\n",
    "number = list(map(int, number.split(' ')))\n",
    "\n",
    "maximum = max(number)\n",
    "minimum = min(number)\n",
    "\n",
    "number.remove(maximum)\n",
    "number.remove(minimum)\n",
    "\n",
    "print(number[0])\n"
   ]
  },
  {
   "cell_type": "markdown",
   "metadata": {},
   "source": [
    "# 2742번"
   ]
  },
  {
   "cell_type": "code",
   "execution_count": 12,
   "metadata": {},
   "outputs": [
    {
     "name": "stdout",
     "output_type": "stream",
     "text": [
      "12\n",
      "12\n",
      "11\n",
      "10\n",
      "9\n",
      "8\n",
      "7\n",
      "6\n",
      "5\n",
      "4\n",
      "3\n",
      "2\n",
      "1\n"
     ]
    }
   ],
   "source": [
    "number = input()\n",
    "num = int(number)\n",
    "for i in range(num):\n",
    "    print(num-i)\n"
   ]
  },
  {
   "cell_type": "markdown",
   "metadata": {},
   "source": [
    "# 10871번"
   ]
  },
  {
   "cell_type": "code",
   "execution_count": 17,
   "metadata": {},
   "outputs": [
    {
     "name": "stdout",
     "output_type": "stream",
     "text": [
      "10 2\n",
      "1 9 8 7 6 10 3 4 2 5\n"
     ]
    }
   ],
   "source": [
    "count, num = map(int, input().split())\n",
    "answer = list(map(int, input().split()))\n",
    "for i in range(count):\n",
    "    if answer[1] < num:\n",
    "        print(answer[i], end=' ')\n"
   ]
  }
 ],
 "metadata": {
  "kernelspec": {
   "display_name": "Python 3",
   "language": "python",
   "name": "python3"
  },
  "language_info": {
   "codemirror_mode": {
    "name": "ipython",
    "version": 3
   },
   "file_extension": ".py",
   "mimetype": "text/x-python",
   "name": "python",
   "nbconvert_exporter": "python",
   "pygments_lexer": "ipython3",
   "version": "3.7.3"
  }
 },
 "nbformat": 4,
 "nbformat_minor": 2
}
